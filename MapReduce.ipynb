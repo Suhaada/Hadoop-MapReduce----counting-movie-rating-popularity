{
 "cells": [
  {
   "cell_type": "markdown",
   "metadata": {},
   "source": [
    "# Running simple MapReduce script on the notorious movies dataset"
   ]
  },
  {
   "cell_type": "code",
   "execution_count": 1,
   "metadata": {},
   "outputs": [],
   "source": [
    "import os \n",
    "os.chdir('C:\\\\Users\\\\asuhajda\\\\JupyterRoot\\\\BigData\\\\movies_dataset\\\\ml-100k\\\\ml-100k')"
   ]
  },
  {
   "cell_type": "markdown",
   "metadata": {},
   "source": [
    "## Initialize class and write out .py executable  "
   ]
  },
  {
   "cell_type": "code",
   "execution_count": 7,
   "metadata": {},
   "outputs": [
    {
     "name": "stdout",
     "output_type": "stream",
     "text": [
      "Overwriting rc.py\n"
     ]
    }
   ],
   "source": [
    "%%file rc.py\n",
    "\n",
    "from mrjob.job import MRJob\n",
    "class MRRatingCounter(MRJob):\n",
    "    def mapper(self, key, line):\n",
    "        (userId, movieId, rating, timestamp) = line.split('\\t')\n",
    "        yield rating, 1\n",
    "\n",
    "    def reducer(self, rating, occurances):\n",
    "        yield rating, sum(occurances)\n",
    "\n",
    "if __name__ == '__main__':\n",
    "    MRRatingCounter.run()"
   ]
  },
  {
   "cell_type": "markdown",
   "metadata": {},
   "source": [
    "# Running rc.py on u.data to return Movie Rating / Count "
   ]
  },
  {
   "cell_type": "code",
   "execution_count": 8,
   "metadata": {
    "scrolled": true
   },
   "outputs": [
    {
     "name": "stdout",
     "output_type": "stream",
     "text": [
      "\"1\"\t6110\n",
      "\"2\"\t11370\n",
      "\"3\"\t27145\n",
      "\"4\"\t34174\n",
      "\"5\"\t21201\n"
     ]
    },
    {
     "name": "stderr",
     "output_type": "stream",
     "text": [
      "No configs found; falling back on auto-configuration\n",
      "No configs specified for inline runner\n",
      "Creating temp directory C:\\Users\\asuhajda\\AppData\\Local\\Temp\\rc.asuhajda.20200828.134705.947102\n",
      "Running step 1 of 1...\n",
      "job output is in C:\\Users\\asuhajda\\AppData\\Local\\Temp\\rc.asuhajda.20200828.134705.947102\\output\n",
      "Streaming final output from C:\\Users\\asuhajda\\AppData\\Local\\Temp\\rc.asuhajda.20200828.134705.947102\\output...\n",
      "Removing temp directory C:\\Users\\asuhajda\\AppData\\Local\\Temp\\rc.asuhajda.20200828.134705.947102...\n"
     ]
    }
   ],
   "source": [
    "!python rc.py u.data"
   ]
  },
  {
   "cell_type": "code",
   "execution_count": null,
   "metadata": {},
   "outputs": [],
   "source": []
  }
 ],
 "metadata": {
  "kernelspec": {
   "display_name": "Python 3",
   "language": "python",
   "name": "python3"
  },
  "language_info": {
   "codemirror_mode": {
    "name": "ipython",
    "version": 3
   },
   "file_extension": ".py",
   "mimetype": "text/x-python",
   "name": "python",
   "nbconvert_exporter": "python",
   "pygments_lexer": "ipython3",
   "version": "3.6.5"
  }
 },
 "nbformat": 4,
 "nbformat_minor": 2
}
